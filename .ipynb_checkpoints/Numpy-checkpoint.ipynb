{
 "cells": [
  {
   "cell_type": "code",
   "execution_count": 1,
   "id": "b410a8d3",
   "metadata": {},
   "outputs": [],
   "source": [
    "#fast \n",
    "#convenient\n",
    "#efficient"
   ]
  },
  {
   "cell_type": "code",
   "execution_count": 2,
   "id": "d6fb9ae5",
   "metadata": {},
   "outputs": [
    {
     "data": {
      "text/plain": [
       "'1.21.5'"
      ]
     },
     "execution_count": 2,
     "metadata": {},
     "output_type": "execute_result"
    }
   ],
   "source": [
    "import numpy as np\n",
    "np.__version__"
   ]
  },
  {
   "cell_type": "code",
   "execution_count": 10,
   "id": "33a5b329",
   "metadata": {},
   "outputs": [
    {
     "name": "stdout",
     "output_type": "stream",
     "text": [
      "[1 2 3 4 5]\n",
      "int32\n",
      "(5,)\n",
      "\n",
      "[1 2 3 4 5]\n",
      "int32\n",
      "(5,)\n"
     ]
    }
   ],
   "source": [
    "import numpy as np\n",
    "a=np.array([1,2,3,4,5])\n",
    "print(a)\n",
    "print(a.dtype)\n",
    "print(a.shape)\n",
    "print()\n",
    "\n",
    "\n",
    "b=np.arange(1,6)\n",
    "print(b)\n",
    "print(b.dtype)\n",
    "print(b.shape)"
   ]
  },
  {
   "cell_type": "code",
   "execution_count": 11,
   "id": "bcf24eb7",
   "metadata": {},
   "outputs": [
    {
     "data": {
      "text/plain": [
       "'\\narrange\\n'"
      ]
     },
     "execution_count": 11,
     "metadata": {},
     "output_type": "execute_result"
    }
   ],
   "source": [
    "\"\"\"\n",
    "arrange\n",
    "\"\"\""
   ]
  },
  {
   "cell_type": "code",
   "execution_count": 14,
   "id": "52d48dd0",
   "metadata": {},
   "outputs": [
    {
     "name": "stdout",
     "output_type": "stream",
     "text": [
      "[[11 12 13 14 15]\n",
      " [16 17 18 19 20]]\n",
      "int32\n",
      "(2, 5)\n",
      "\n",
      "[[ 0  1  2  3]\n",
      " [ 4  5  6  7]\n",
      " [ 8  9 10 11]\n",
      " [12 13 14 15]\n",
      " [16 17 18 19]]\n",
      "int32\n",
      "(5, 4)\n",
      "\n"
     ]
    }
   ],
   "source": [
    "import numpy as np\n",
    "a=np.array([[11,12,13,14,15],[16,17,18,19,20]])\n",
    "print(a)\n",
    "print(a.dtype)\n",
    "print(a.shape)\n",
    "print()\n",
    "\n",
    "import numpy as np\n",
    "a=np.arange(20).reshape(5,4)\n",
    "print(a)\n",
    "print(a.dtype)\n",
    "print(a.shape)\n",
    "print()"
   ]
  },
  {
   "cell_type": "code",
   "execution_count": 15,
   "id": "92d0aa3c",
   "metadata": {},
   "outputs": [
    {
     "data": {
      "text/plain": [
       "'3-D MEANS IT CONSISTS OF NO. OF 2 DIMENSIONAL ARRAYS'"
      ]
     },
     "execution_count": 15,
     "metadata": {},
     "output_type": "execute_result"
    }
   ],
   "source": [
    "\"\"\"3-D MEANS IT CONSISTS OF NO. OF 2 DIMENSIONAL ARRAYS\"\"\""
   ]
  },
  {
   "cell_type": "code",
   "execution_count": 19,
   "id": "f6ffb053",
   "metadata": {},
   "outputs": [
    {
     "name": "stdout",
     "output_type": "stream",
     "text": [
      "[[[1 1 1 1]\n",
      "  [2 2 2 2]]\n",
      "\n",
      " [[3 3 3 3]\n",
      "  [4 4 4 4]]\n",
      "\n",
      " [[5 5 5 5]\n",
      "  [6 6 6 6]]]\n",
      "int32\n",
      "(3, 2, 4)\n",
      "\n"
     ]
    }
   ],
   "source": [
    "import numpy as np\n",
    "a=np.array([\n",
    "            [[1,1,1,1],[2,2,2,2]],\n",
    "            [[3,3,3,3],[4,4,4,4]],\n",
    "            [[5,5,5,5],[6,6,6,6]]\n",
    "           ])\n",
    "print(a)\n",
    "print(a.dtype)\n",
    "print(a.shape)\n",
    "print()\n",
    "\n"
   ]
  },
  {
   "cell_type": "code",
   "execution_count": 18,
   "id": "2f91dcce",
   "metadata": {},
   "outputs": [
    {
     "name": "stdout",
     "output_type": "stream",
     "text": [
      "[[[ 1  2]\n",
      "  [ 3  4]]\n",
      "\n",
      " [[ 5  6]\n",
      "  [ 7  8]]\n",
      "\n",
      " [[ 9 10]\n",
      "  [11 12]]]\n",
      "int32\n",
      "(3, 2, 2)\n",
      "\n"
     ]
    }
   ],
   "source": [
    "import numpy as np\n",
    "a=np.arange(1,13).reshape(3,2,2)\n",
    "print(a)\n",
    "print(a.dtype)\n",
    "print(a.shape)\n",
    "print()"
   ]
  },
  {
   "cell_type": "code",
   "execution_count": 23,
   "id": "620c029e",
   "metadata": {},
   "outputs": [
    {
     "name": "stdout",
     "output_type": "stream",
     "text": [
      "[[[1 1 1]\n",
      "  [1 1 1]]\n",
      "\n",
      " [[1 1 1]\n",
      "  [1 1 1]]\n",
      "\n",
      " [[1 1 1]\n",
      "  [1 1 1]]]\n",
      "int32\n",
      "(3, 2, 3)\n",
      "\n"
     ]
    }
   ],
   "source": [
    "import numpy as np\n",
    "a=np.ones(18,dtype=\"int32\").reshape(3,2,3)#here,you have to specify no of elements only!!!\n",
    "print(a)\n",
    "print(a.dtype)\n",
    "print(a.shape)\n",
    "print()"
   ]
  },
  {
   "cell_type": "code",
   "execution_count": 27,
   "id": "8cfb9cca",
   "metadata": {},
   "outputs": [
    {
     "name": "stdout",
     "output_type": "stream",
     "text": [
      "[[[0 0]\n",
      "  [0 0]\n",
      "  [0 0]]\n",
      "\n",
      " [[0 0]\n",
      "  [0 0]\n",
      "  [0 0]]\n",
      "\n",
      " [[0 0]\n",
      "  [0 0]\n",
      "  [0 0]]]\n",
      "int32\n",
      "(3, 3, 2)\n",
      "\n"
     ]
    }
   ],
   "source": [
    "import numpy as np\n",
    "a=np.zeros(18,dtype=\"int32\").reshape(3,3,2)\n",
    "print(a)\n",
    "print(a.dtype)\n",
    "print(a.shape)\n",
    "print()"
   ]
  },
  {
   "cell_type": "code",
   "execution_count": 38,
   "id": "6611bef0",
   "metadata": {},
   "outputs": [
    {
     "data": {
      "text/plain": [
       "'HERE IN RANDOM.RANDIT() SIZE == REHSHAPE'"
      ]
     },
     "execution_count": 38,
     "metadata": {},
     "output_type": "execute_result"
    }
   ],
   "source": [
    "\"\"\"HERE IN RANDOM.RANDIT() SIZE == REHSHAPE\"\"\""
   ]
  },
  {
   "cell_type": "code",
   "execution_count": 36,
   "id": "87966756",
   "metadata": {},
   "outputs": [
    {
     "name": "stdout",
     "output_type": "stream",
     "text": [
      "[[[14  9  2]\n",
      "  [13 15 15]]\n",
      "\n",
      " [[ 1  9 16]\n",
      "  [ 5 16 14]]\n",
      "\n",
      " [[ 1  8 15]\n",
      "  [18  7 17]]]\n",
      "int32\n",
      "(3, 2, 3)\n",
      "\n"
     ]
    }
   ],
   "source": [
    "import numpy as np\n",
    "a=np.random.randint(1,19,size=(3,2,3))\n",
    "print(a)\n",
    "print(a.dtype)\n",
    "print(a.shape)\n",
    "print()"
   ]
  },
  {
   "cell_type": "code",
   "execution_count": 40,
   "id": "6015677d",
   "metadata": {},
   "outputs": [
    {
     "data": {
      "text/plain": [
       "'IT CONSISTS LOWS AND HIGH . SO THERE ARE THREE POSSIBILITIES'"
      ]
     },
     "execution_count": 40,
     "metadata": {},
     "output_type": "execute_result"
    }
   ],
   "source": [
    "\"\"\"IT CONSISTS LOWS AND HIGH . SO THERE ARE THREE POSSIBILITIES\"\"\""
   ]
  },
  {
   "cell_type": "code",
   "execution_count": 41,
   "id": "7bf5af51",
   "metadata": {},
   "outputs": [
    {
     "data": {
      "text/plain": [
       "'1. SINGLE LOW , MULTIPLE HIGH '"
      ]
     },
     "execution_count": 41,
     "metadata": {},
     "output_type": "execute_result"
    }
   ],
   "source": [
    "\"\"\"1. SINGLE LOW , MULTIPLE HIGH \"\"\""
   ]
  },
  {
   "cell_type": "code",
   "execution_count": 44,
   "id": "767934c2",
   "metadata": {},
   "outputs": [
    {
     "name": "stdout",
     "output_type": "stream",
     "text": [
      "[1 2 2 4]\n",
      "int32\n",
      "(4,)\n"
     ]
    }
   ],
   "source": [
    "import numpy as np\n",
    "a=np.random.randint(1,[2,3,4,5],size=(4))\n",
    "print(a)\n",
    "print(a.dtype)\n",
    "print(a.shape)"
   ]
  },
  {
   "cell_type": "code",
   "execution_count": 42,
   "id": "047cad21",
   "metadata": {},
   "outputs": [
    {
     "data": {
      "text/plain": [
       "'2. MULTIPLE LOW , SINGLE HIGH '"
      ]
     },
     "execution_count": 42,
     "metadata": {},
     "output_type": "execute_result"
    }
   ],
   "source": [
    "\"\"\"2. MULTIPLE LOW , SINGLE HIGH \"\"\""
   ]
  },
  {
   "cell_type": "code",
   "execution_count": 47,
   "id": "9b8a5bf7",
   "metadata": {},
   "outputs": [
    {
     "name": "stdout",
     "output_type": "stream",
     "text": [
      "[16 12 15 17]\n",
      "int32\n",
      "(4,)\n"
     ]
    }
   ],
   "source": [
    "import numpy as np\n",
    "a=np.random.randint([1,2,3,4],19)\n",
    "print(a)\n",
    "print(a.dtype)\n",
    "print(a.shape)"
   ]
  },
  {
   "cell_type": "code",
   "execution_count": 43,
   "id": "23a485a8",
   "metadata": {},
   "outputs": [
    {
     "data": {
      "text/plain": [
       "'3. MULTIPLE LOW , MULTIPLE HIGH '"
      ]
     },
     "execution_count": 43,
     "metadata": {},
     "output_type": "execute_result"
    }
   ],
   "source": [
    "\"\"\"3. MULTIPLE LOW , MULTIPLE HIGH \"\"\""
   ]
  },
  {
   "cell_type": "code",
   "execution_count": 50,
   "id": "4e35ff99",
   "metadata": {},
   "outputs": [
    {
     "name": "stdout",
     "output_type": "stream",
     "text": [
      "[[[ 85 160  89]\n",
      "  [ 35 148  57]]\n",
      "\n",
      " [[ 20  73 207]\n",
      "  [ 46  65  93]]\n",
      "\n",
      " [[ 67  89  33]\n",
      "  [ 90  62  99]]]\n",
      "int32\n",
      "(3, 2, 3)\n"
     ]
    }
   ],
   "source": [
    "import numpy as np\n",
    "a=np.random.randint([10,20,30],[100,200,300],size=(3,2,3))\n",
    "print(a)\n",
    "print(a.dtype)\n",
    "print(a.shape)"
   ]
  },
  {
   "cell_type": "code",
   "execution_count": 51,
   "id": "10800305",
   "metadata": {},
   "outputs": [
    {
     "data": {
      "text/plain": [
       "'HERE , IN RANDOM.RANDN() N SPECIFIES ANY FLOATING VALUE'"
      ]
     },
     "execution_count": 51,
     "metadata": {},
     "output_type": "execute_result"
    }
   ],
   "source": [
    "\"\"\"HERE , IN RANDOM.RANDN() N SPECIFIES ANY FLOATING VALUE\"\"\""
   ]
  },
  {
   "cell_type": "code",
   "execution_count": 57,
   "id": "041531c3",
   "metadata": {},
   "outputs": [
    {
     "name": "stdout",
     "output_type": "stream",
     "text": [
      "[0.90399659 0.65162461 0.39421338]\n",
      "float64\n",
      "(3,)\n"
     ]
    }
   ],
   "source": [
    "import numpy as np\n",
    "a=np.random.randn(3)\n",
    "print(a)\n",
    "print(a.dtype)\n",
    "print(a.shape)"
   ]
  },
  {
   "cell_type": "code",
   "execution_count": 58,
   "id": "01291db2",
   "metadata": {},
   "outputs": [
    {
     "name": "stdout",
     "output_type": "stream",
     "text": [
      "[[0.6103278  1.23664059 0.12647019]\n",
      " [1.07067665 1.35741912 1.32456243]\n",
      " [1.22911293 0.26200409 0.77165936]]\n"
     ]
    }
   ],
   "source": [
    "import numpy as np\n",
    "a=np.random.randn(3,3)\n",
    "print(a)"
   ]
  },
  {
   "cell_type": "code",
   "execution_count": 59,
   "id": "b3dc6cb7",
   "metadata": {},
   "outputs": [
    {
     "name": "stdout",
     "output_type": "stream",
     "text": [
      "[[[ 0.61600174  0.23608035 -1.19073006]\n",
      "  [-1.54546298  0.50225682 -1.63654743]]\n",
      "\n",
      " [[ 0.76015554 -0.92461112 -0.26423366]\n",
      "  [-0.03598442 -1.55529203 -0.39202029]]\n",
      "\n",
      " [[ 0.99140795  1.53958729  0.29867826]\n",
      "  [-0.19846066 -1.97308817  1.16310486]]]\n"
     ]
    }
   ],
   "source": [
    "import numpy as np\n",
    "a=np.random.randn(3,2,3)\n",
    "print(a)"
   ]
  },
  {
   "cell_type": "code",
   "execution_count": null,
   "id": "42edf72c",
   "metadata": {},
   "outputs": [],
   "source": []
  }
 ],
 "metadata": {
  "kernelspec": {
   "display_name": "Python 3 (ipykernel)",
   "language": "python",
   "name": "python3"
  },
  "language_info": {
   "codemirror_mode": {
    "name": "ipython",
    "version": 3
   },
   "file_extension": ".py",
   "mimetype": "text/x-python",
   "name": "python",
   "nbconvert_exporter": "python",
   "pygments_lexer": "ipython3",
   "version": "3.9.12"
  }
 },
 "nbformat": 4,
 "nbformat_minor": 5
}
