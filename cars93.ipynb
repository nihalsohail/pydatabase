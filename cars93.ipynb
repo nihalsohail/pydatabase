{
 "cells": [
  {
   "cell_type": "code",
   "execution_count": 1,
   "id": "244567a9",
   "metadata": {},
   "outputs": [
    {
     "data": {
      "text/html": [
       "<div>\n",
       "<style scoped>\n",
       "    .dataframe tbody tr th:only-of-type {\n",
       "        vertical-align: middle;\n",
       "    }\n",
       "\n",
       "    .dataframe tbody tr th {\n",
       "        vertical-align: top;\n",
       "    }\n",
       "\n",
       "    .dataframe thead th {\n",
       "        text-align: right;\n",
       "    }\n",
       "</style>\n",
       "<table border=\"1\" class=\"dataframe\">\n",
       "  <thead>\n",
       "    <tr style=\"text-align: right;\">\n",
       "      <th></th>\n",
       "      <th>name</th>\n",
       "      <th>year</th>\n",
       "      <th>selling_price</th>\n",
       "      <th>km_driven</th>\n",
       "      <th>fuel</th>\n",
       "      <th>seller_type</th>\n",
       "      <th>transmission</th>\n",
       "      <th>owner</th>\n",
       "    </tr>\n",
       "  </thead>\n",
       "  <tbody>\n",
       "    <tr>\n",
       "      <th>1644</th>\n",
       "      <td>Maruti Wagon R VXI BS IV</td>\n",
       "      <td>2017.0</td>\n",
       "      <td>350000.0</td>\n",
       "      <td>30000</td>\n",
       "      <td>Petrol</td>\n",
       "      <td>Individual</td>\n",
       "      <td>Manual</td>\n",
       "      <td>First Owner</td>\n",
       "    </tr>\n",
       "    <tr>\n",
       "      <th>1444</th>\n",
       "      <td>Maruti Alto K10 VXI</td>\n",
       "      <td>2017.0</td>\n",
       "      <td>325000.0</td>\n",
       "      <td>15000</td>\n",
       "      <td>Petrol</td>\n",
       "      <td>Individual</td>\n",
       "      <td>Manual</td>\n",
       "      <td>First Owner</td>\n",
       "    </tr>\n",
       "    <tr>\n",
       "      <th>3208</th>\n",
       "      <td>Ford Figo Aspire 1.5 TDCi Ambiente ABS</td>\n",
       "      <td>2017.0</td>\n",
       "      <td>550000.0</td>\n",
       "      <td>100000</td>\n",
       "      <td>Diesel</td>\n",
       "      <td>Individual</td>\n",
       "      <td>Manual</td>\n",
       "      <td>First Owner</td>\n",
       "    </tr>\n",
       "    <tr>\n",
       "      <th>2558</th>\n",
       "      <td>Honda City i VTEC V</td>\n",
       "      <td>2016.0</td>\n",
       "      <td>696000.0</td>\n",
       "      <td>138925</td>\n",
       "      <td>Petrol</td>\n",
       "      <td>Dealer</td>\n",
       "      <td>Manual</td>\n",
       "      <td>First Owner</td>\n",
       "    </tr>\n",
       "    <tr>\n",
       "      <th>2210</th>\n",
       "      <td>Maruti 800 Std BSII</td>\n",
       "      <td>2006.0</td>\n",
       "      <td>90000.0</td>\n",
       "      <td>40000</td>\n",
       "      <td>Petrol</td>\n",
       "      <td>Individual</td>\n",
       "      <td>Manual</td>\n",
       "      <td>Second Owner</td>\n",
       "    </tr>\n",
       "  </tbody>\n",
       "</table>\n",
       "</div>"
      ],
      "text/plain": [
       "                                        name    year  selling_price  \\\n",
       "1644                Maruti Wagon R VXI BS IV  2017.0       350000.0   \n",
       "1444                     Maruti Alto K10 VXI  2017.0       325000.0   \n",
       "3208  Ford Figo Aspire 1.5 TDCi Ambiente ABS  2017.0       550000.0   \n",
       "2558                     Honda City i VTEC V  2016.0       696000.0   \n",
       "2210                     Maruti 800 Std BSII  2006.0        90000.0   \n",
       "\n",
       "      km_driven    fuel seller_type transmission         owner  \n",
       "1644      30000  Petrol  Individual       Manual   First Owner  \n",
       "1444      15000  Petrol  Individual       Manual   First Owner  \n",
       "3208     100000  Diesel  Individual       Manual   First Owner  \n",
       "2558     138925  Petrol      Dealer       Manual   First Owner  \n",
       "2210      40000  Petrol  Individual       Manual  Second Owner  "
      ]
     },
     "execution_count": 1,
     "metadata": {},
     "output_type": "execute_result"
    }
   ],
   "source": [
    "import pandas as pd\n",
    "df= pd.read_csv('dataset/CAR DETAILS FROM CAR DEKHO.csv')\n",
    "df.sample(5)"
   ]
  },
  {
   "cell_type": "code",
   "execution_count": 2,
   "id": "1eb9a3a2",
   "metadata": {},
   "outputs": [
    {
     "name": "stdout",
     "output_type": "stream",
     "text": [
      "<class 'pandas.core.frame.DataFrame'>\n",
      "RangeIndex: 4345 entries, 0 to 4344\n",
      "Data columns (total 8 columns):\n",
      " #   Column         Non-Null Count  Dtype  \n",
      "---  ------         --------------  -----  \n",
      " 0   name           4345 non-null   object \n",
      " 1   year           4342 non-null   float64\n",
      " 2   selling_price  4342 non-null   float64\n",
      " 3   km_driven      4345 non-null   int64  \n",
      " 4   fuel           4342 non-null   object \n",
      " 5   seller_type    4345 non-null   object \n",
      " 6   transmission   4345 non-null   object \n",
      " 7   owner          4345 non-null   object \n",
      "dtypes: float64(2), int64(1), object(5)\n",
      "memory usage: 271.7+ KB\n"
     ]
    }
   ],
   "source": [
    "df.info()"
   ]
  },
  {
   "cell_type": "code",
   "execution_count": 3,
   "id": "ccc8b24d",
   "metadata": {},
   "outputs": [
    {
     "data": {
      "text/plain": [
       "name             0\n",
       "year             3\n",
       "selling_price    3\n",
       "km_driven        0\n",
       "fuel             3\n",
       "seller_type      0\n",
       "transmission     0\n",
       "owner            0\n",
       "dtype: int64"
      ]
     },
     "execution_count": 3,
     "metadata": {},
     "output_type": "execute_result"
    }
   ],
   "source": [
    "df.isna().sum()"
   ]
  },
  {
   "cell_type": "code",
   "execution_count": 4,
   "id": "e12bed74",
   "metadata": {},
   "outputs": [],
   "source": [
    "df.fillna(method='ffill',inplace=True)"
   ]
  },
  {
   "cell_type": "code",
   "execution_count": null,
   "id": "39a55c46",
   "metadata": {},
   "outputs": [],
   "source": []
  },
  {
   "cell_type": "code",
   "execution_count": 5,
   "id": "d45af2ef",
   "metadata": {},
   "outputs": [
    {
     "name": "stderr",
     "output_type": "stream",
     "text": [
      "C:\\ProgramData\\Anaconda3\\lib\\site-packages\\seaborn\\_decorators.py:36: FutureWarning: Pass the following variable as a keyword arg: x. From version 0.12, the only valid positional argument will be `data`, and passing other arguments without an explicit keyword will result in an error or misinterpretation.\n",
      "  warnings.warn(\n"
     ]
    },
    {
     "data": {
      "text/plain": [
       "<AxesSubplot:xlabel='year'>"
      ]
     },
     "execution_count": 5,
     "metadata": {},
     "output_type": "execute_result"
    },
    {
     "data": {
      "image/png": "[encoded data removed]",
      "text/plain": [
       "<Figure size 432x288 with 1 Axes>"
      ]
     },
     "metadata": {
      "needs_background": "light"
     },
     "output_type": "display_data"
    }
   ],
   "source": [
    "import seaborn as sns\n",
    "sns.boxplot(df['year'])"
   ]
  },
  {
   "cell_type": "code",
   "execution_count": 6,
   "id": "1003761d",
   "metadata": {},
   "outputs": [
    {
     "data": {
      "text/plain": [
       "-0.8404380993053798"
      ]
     },
     "execution_count": 6,
     "metadata": {},
     "output_type": "execute_result"
    }
   ],
   "source": [
    "df['year'].skew()"
   ]
  },
  {
   "cell_type": "code",
   "execution_count": 7,
   "id": "924210c1",
   "metadata": {},
   "outputs": [],
   "source": [
    "Q1=df['year'].quantile(0.25)\n",
    "Q3=df['year'].quantile(0.75)\n",
    "iqr=Q3-Q1\n",
    "ul=Q3+1.5*iqr\n",
    "ll=Q1-1.5*iqr"
   ]
  },
  {
   "cell_type": "code",
   "execution_count": 8,
   "id": "b2fd12b5",
   "metadata": {},
   "outputs": [
    {
     "data": {
      "text/html": [
       "<div>\n",
       "<style scoped>\n",
       "    .dataframe tbody tr th:only-of-type {\n",
       "        vertical-align: middle;\n",
       "    }\n",
       "\n",
       "    .dataframe tbody tr th {\n",
       "        vertical-align: top;\n",
       "    }\n",
       "\n",
       "    .dataframe thead th {\n",
       "        text-align: right;\n",
       "    }\n",
       "</style>\n",
       "<table border=\"1\" class=\"dataframe\">\n",
       "  <thead>\n",
       "    <tr style=\"text-align: right;\">\n",
       "      <th></th>\n",
       "      <th>name</th>\n",
       "      <th>year</th>\n",
       "      <th>selling_price</th>\n",
       "      <th>km_driven</th>\n",
       "      <th>fuel</th>\n",
       "      <th>seller_type</th>\n",
       "      <th>transmission</th>\n",
       "      <th>owner</th>\n",
       "    </tr>\n",
       "  </thead>\n",
       "  <tbody>\n",
       "    <tr>\n",
       "      <th>62</th>\n",
       "      <td>Mahindra Jeep CL 500 MDI</td>\n",
       "      <td>1996.0</td>\n",
       "      <td>250000.0</td>\n",
       "      <td>35000</td>\n",
       "      <td>Diesel</td>\n",
       "      <td>Individual</td>\n",
       "      <td>Manual</td>\n",
       "      <td>Second Owner</td>\n",
       "    </tr>\n",
       "    <tr>\n",
       "      <th>63</th>\n",
       "      <td>Honda City i DTEC VX</td>\n",
       "      <td>1996.0</td>\n",
       "      <td>675000.0</td>\n",
       "      <td>90000</td>\n",
       "      <td>Diesel</td>\n",
       "      <td>Dealer</td>\n",
       "      <td>Manual</td>\n",
       "      <td>First Owner</td>\n",
       "    </tr>\n",
       "    <tr>\n",
       "      <th>142</th>\n",
       "      <td>Maruti 800 Std</td>\n",
       "      <td>1998.0</td>\n",
       "      <td>40000.0</td>\n",
       "      <td>40000</td>\n",
       "      <td>Petrol</td>\n",
       "      <td>Individual</td>\n",
       "      <td>Manual</td>\n",
       "      <td>Fourth &amp; Above Owner</td>\n",
       "    </tr>\n",
       "    <tr>\n",
       "      <th>146</th>\n",
       "      <td>Hyundai Santro LP zipPlus</td>\n",
       "      <td>2003.0</td>\n",
       "      <td>75000.0</td>\n",
       "      <td>57000</td>\n",
       "      <td>Petrol</td>\n",
       "      <td>Individual</td>\n",
       "      <td>Manual</td>\n",
       "      <td>First Owner</td>\n",
       "    </tr>\n",
       "    <tr>\n",
       "      <th>154</th>\n",
       "      <td>Hyundai Santro LE</td>\n",
       "      <td>2002.0</td>\n",
       "      <td>65000.0</td>\n",
       "      <td>70000</td>\n",
       "      <td>Petrol</td>\n",
       "      <td>Individual</td>\n",
       "      <td>Manual</td>\n",
       "      <td>First Owner</td>\n",
       "    </tr>\n",
       "    <tr>\n",
       "      <th>...</th>\n",
       "      <td>...</td>\n",
       "      <td>...</td>\n",
       "      <td>...</td>\n",
       "      <td>...</td>\n",
       "      <td>...</td>\n",
       "      <td>...</td>\n",
       "      <td>...</td>\n",
       "      <td>...</td>\n",
       "    </tr>\n",
       "    <tr>\n",
       "      <th>4025</th>\n",
       "      <td>Maruti Gypsy King HT BSIV</td>\n",
       "      <td>2001.0</td>\n",
       "      <td>409999.0</td>\n",
       "      <td>49359</td>\n",
       "      <td>Petrol</td>\n",
       "      <td>Individual</td>\n",
       "      <td>Manual</td>\n",
       "      <td>Third Owner</td>\n",
       "    </tr>\n",
       "    <tr>\n",
       "      <th>4137</th>\n",
       "      <td>Maruti Zen LXI</td>\n",
       "      <td>2003.0</td>\n",
       "      <td>70000.0</td>\n",
       "      <td>60000</td>\n",
       "      <td>Petrol</td>\n",
       "      <td>Individual</td>\n",
       "      <td>Manual</td>\n",
       "      <td>Fourth &amp; Above Owner</td>\n",
       "    </tr>\n",
       "    <tr>\n",
       "      <th>4158</th>\n",
       "      <td>Skoda Octavia Ambiente 1.9 TDI MT</td>\n",
       "      <td>2002.0</td>\n",
       "      <td>90000.0</td>\n",
       "      <td>116000</td>\n",
       "      <td>Diesel</td>\n",
       "      <td>Individual</td>\n",
       "      <td>Manual</td>\n",
       "      <td>Second Owner</td>\n",
       "    </tr>\n",
       "    <tr>\n",
       "      <th>4213</th>\n",
       "      <td>Toyota Qualis FS B3</td>\n",
       "      <td>2001.0</td>\n",
       "      <td>150000.0</td>\n",
       "      <td>256000</td>\n",
       "      <td>Diesel</td>\n",
       "      <td>Dealer</td>\n",
       "      <td>Manual</td>\n",
       "      <td>First Owner</td>\n",
       "    </tr>\n",
       "    <tr>\n",
       "      <th>4330</th>\n",
       "      <td>Maruti Alto LXi</td>\n",
       "      <td>2000.0</td>\n",
       "      <td>65000.0</td>\n",
       "      <td>90000</td>\n",
       "      <td>Petrol</td>\n",
       "      <td>Individual</td>\n",
       "      <td>Manual</td>\n",
       "      <td>Second Owner</td>\n",
       "    </tr>\n",
       "  </tbody>\n",
       "</table>\n",
       "<p>106 rows × 8 columns</p>\n",
       "</div>"
      ],
      "text/plain": [
       "                                   name    year  selling_price  km_driven  \\\n",
       "62             Mahindra Jeep CL 500 MDI  1996.0       250000.0      35000   \n",
       "63                 Honda City i DTEC VX  1996.0       675000.0      90000   \n",
       "142                      Maruti 800 Std  1998.0        40000.0      40000   \n",
       "146           Hyundai Santro LP zipPlus  2003.0        75000.0      57000   \n",
       "154                   Hyundai Santro LE  2002.0        65000.0      70000   \n",
       "...                                 ...     ...            ...        ...   \n",
       "4025          Maruti Gypsy King HT BSIV  2001.0       409999.0      49359   \n",
       "4137                     Maruti Zen LXI  2003.0        70000.0      60000   \n",
       "4158  Skoda Octavia Ambiente 1.9 TDI MT  2002.0        90000.0     116000   \n",
       "4213                Toyota Qualis FS B3  2001.0       150000.0     256000   \n",
       "4330                    Maruti Alto LXi  2000.0        65000.0      90000   \n",
       "\n",
       "        fuel seller_type transmission                 owner  \n",
       "62    Diesel  Individual       Manual          Second Owner  \n",
       "63    Diesel      Dealer       Manual           First Owner  \n",
       "142   Petrol  Individual       Manual  Fourth & Above Owner  \n",
       "146   Petrol  Individual       Manual           First Owner  \n",
       "154   Petrol  Individual       Manual           First Owner  \n",
       "...      ...         ...          ...                   ...  \n",
       "4025  Petrol  Individual       Manual           Third Owner  \n",
       "4137  Petrol  Individual       Manual  Fourth & Above Owner  \n",
       "4158  Diesel  Individual       Manual          Second Owner  \n",
       "4213  Diesel      Dealer       Manual           First Owner  \n",
       "4330  Petrol  Individual       Manual          Second Owner  \n",
       "\n",
       "[106 rows x 8 columns]"
      ]
     },
     "execution_count": 8,
     "metadata": {},
     "output_type": "execute_result"
    }
   ],
   "source": [
    "df[(df['year']>ul) | (df['year']<ll)]\n"
   ]
  },
  {
   "cell_type": "code",
   "execution_count": 9,
   "id": "ebee6afb",
   "metadata": {},
   "outputs": [],
   "source": [
    "import numpy as np\n",
    "df['year']=np.where((df['year']>ul),\n",
    "                                  ul,\n",
    "                                  np.where((df['year']<ll),\n",
    "                                                        ll,\n",
    "                                                        df['year']))"
   ]
  },
  {
   "cell_type": "code",
   "execution_count": 10,
   "id": "ae5a7f45",
   "metadata": {},
   "outputs": [
    {
     "name": "stderr",
     "output_type": "stream",
     "text": [
      "C:\\ProgramData\\Anaconda3\\lib\\site-packages\\seaborn\\_decorators.py:36: FutureWarning: Pass the following variable as a keyword arg: x. From version 0.12, the only valid positional argument will be `data`, and passing other arguments without an explicit keyword will result in an error or misinterpretation.\n",
      "  warnings.warn(\n"
     ]
    },
    {
     "data": {
      "text/plain": [
       "<AxesSubplot:xlabel='year'>"
      ]
     },
     "execution_count": 10,
     "metadata": {},
     "output_type": "execute_result"
    },
    {
     "data": {
      "image/png": "[encoded data removed]",
      "text/plain": [
       "<Figure size 432x288 with 1 Axes>"
      ]
     },
     "metadata": {
      "needs_background": "light"
     },
     "output_type": "display_data"
    }
   ],
   "source": [
    "sns.boxplot(df['year'])"
   ]
  },
  {
   "cell_type": "code",
   "execution_count": null,
   "id": "046cb16e",
   "metadata": {},
   "outputs": [],
   "source": []
  },
  {
   "cell_type": "code",
   "execution_count": 11,
   "id": "8f2185ec",
   "metadata": {},
   "outputs": [
    {
     "data": {
      "text/plain": [
       "766"
      ]
     },
     "execution_count": 11,
     "metadata": {},
     "output_type": "execute_result"
    }
   ],
   "source": [
    "df.duplicated().sum()"
   ]
  },
  {
   "cell_type": "code",
   "execution_count": 12,
   "id": "591f0216",
   "metadata": {},
   "outputs": [],
   "source": [
    "df.drop_duplicates(inplace=True)"
   ]
  },
  {
   "cell_type": "code",
   "execution_count": null,
   "id": "5ff4d76b",
   "metadata": {},
   "outputs": [],
   "source": []
  },
  {
   "cell_type": "code",
   "execution_count": 13,
   "id": "8e77231c",
   "metadata": {},
   "outputs": [],
   "source": [
    "df['suggest'] = np.where((df['km_driven']>100000),'dont buy',\n",
    "                        np.where((df['km_driven']<100000),'buy',df['km_driven']))"
   ]
  },
  {
   "cell_type": "code",
   "execution_count": 14,
   "id": "42d7200b",
   "metadata": {},
   "outputs": [
    {
     "data": {
      "text/html": [
       "<div>\n",
       "<style scoped>\n",
       "    .dataframe tbody tr th:only-of-type {\n",
       "        vertical-align: middle;\n",
       "    }\n",
       "\n",
       "    .dataframe tbody tr th {\n",
       "        vertical-align: top;\n",
       "    }\n",
       "\n",
       "    .dataframe thead th {\n",
       "        text-align: right;\n",
       "    }\n",
       "</style>\n",
       "<table border=\"1\" class=\"dataframe\">\n",
       "  <thead>\n",
       "    <tr style=\"text-align: right;\">\n",
       "      <th></th>\n",
       "      <th>name</th>\n",
       "      <th>year</th>\n",
       "      <th>selling_price</th>\n",
       "      <th>km_driven</th>\n",
       "      <th>fuel</th>\n",
       "      <th>seller_type</th>\n",
       "      <th>transmission</th>\n",
       "      <th>owner</th>\n",
       "      <th>suggest</th>\n",
       "    </tr>\n",
       "  </thead>\n",
       "  <tbody>\n",
       "    <tr>\n",
       "      <th>1691</th>\n",
       "      <td>Chevrolet Aveo 1.4 CNG</td>\n",
       "      <td>2011.0</td>\n",
       "      <td>229999.0</td>\n",
       "      <td>100000</td>\n",
       "      <td>CNG</td>\n",
       "      <td>Individual</td>\n",
       "      <td>Manual</td>\n",
       "      <td>First Owner</td>\n",
       "      <td>100000</td>\n",
       "    </tr>\n",
       "    <tr>\n",
       "      <th>1635</th>\n",
       "      <td>Hyundai Santro Magna AMT BSIV</td>\n",
       "      <td>2019.0</td>\n",
       "      <td>400000.0</td>\n",
       "      <td>16000</td>\n",
       "      <td>Petrol</td>\n",
       "      <td>Individual</td>\n",
       "      <td>Automatic</td>\n",
       "      <td>First Owner</td>\n",
       "      <td>buy</td>\n",
       "    </tr>\n",
       "    <tr>\n",
       "      <th>2433</th>\n",
       "      <td>Toyota Innova 2.5 G (Diesel) 8 Seater</td>\n",
       "      <td>2013.0</td>\n",
       "      <td>1010000.0</td>\n",
       "      <td>120000</td>\n",
       "      <td>Diesel</td>\n",
       "      <td>Individual</td>\n",
       "      <td>Manual</td>\n",
       "      <td>First Owner</td>\n",
       "      <td>dont buy</td>\n",
       "    </tr>\n",
       "    <tr>\n",
       "      <th>1282</th>\n",
       "      <td>Volkswagen Polo 1.5 TDI Trendline</td>\n",
       "      <td>2014.0</td>\n",
       "      <td>415000.0</td>\n",
       "      <td>81358</td>\n",
       "      <td>Diesel</td>\n",
       "      <td>Dealer</td>\n",
       "      <td>Manual</td>\n",
       "      <td>First Owner</td>\n",
       "      <td>buy</td>\n",
       "    </tr>\n",
       "    <tr>\n",
       "      <th>3343</th>\n",
       "      <td>Maruti Ertiga VDI</td>\n",
       "      <td>2012.0</td>\n",
       "      <td>700000.0</td>\n",
       "      <td>110000</td>\n",
       "      <td>Diesel</td>\n",
       "      <td>Individual</td>\n",
       "      <td>Manual</td>\n",
       "      <td>Second Owner</td>\n",
       "      <td>dont buy</td>\n",
       "    </tr>\n",
       "    <tr>\n",
       "      <th>1229</th>\n",
       "      <td>Maruti Vitara Brezza VDi</td>\n",
       "      <td>2018.0</td>\n",
       "      <td>780000.0</td>\n",
       "      <td>50000</td>\n",
       "      <td>Diesel</td>\n",
       "      <td>Individual</td>\n",
       "      <td>Manual</td>\n",
       "      <td>First Owner</td>\n",
       "      <td>buy</td>\n",
       "    </tr>\n",
       "    <tr>\n",
       "      <th>92</th>\n",
       "      <td>Honda Brio S MT</td>\n",
       "      <td>2015.0</td>\n",
       "      <td>371000.0</td>\n",
       "      <td>20000</td>\n",
       "      <td>Petrol</td>\n",
       "      <td>Dealer</td>\n",
       "      <td>Manual</td>\n",
       "      <td>First Owner</td>\n",
       "      <td>buy</td>\n",
       "    </tr>\n",
       "    <tr>\n",
       "      <th>1450</th>\n",
       "      <td>Maruti Wagon R LX BSIII</td>\n",
       "      <td>2009.0</td>\n",
       "      <td>130000.0</td>\n",
       "      <td>70000</td>\n",
       "      <td>Petrol</td>\n",
       "      <td>Individual</td>\n",
       "      <td>Manual</td>\n",
       "      <td>Fourth &amp; Above Owner</td>\n",
       "      <td>buy</td>\n",
       "    </tr>\n",
       "    <tr>\n",
       "      <th>3383</th>\n",
       "      <td>Maruti Eeco Smiles 5 Seater AC</td>\n",
       "      <td>2013.0</td>\n",
       "      <td>280000.0</td>\n",
       "      <td>76600</td>\n",
       "      <td>Petrol</td>\n",
       "      <td>Dealer</td>\n",
       "      <td>Manual</td>\n",
       "      <td>First Owner</td>\n",
       "      <td>buy</td>\n",
       "    </tr>\n",
       "    <tr>\n",
       "      <th>1643</th>\n",
       "      <td>Maruti Esteem Vxi</td>\n",
       "      <td>2005.0</td>\n",
       "      <td>100000.0</td>\n",
       "      <td>20000</td>\n",
       "      <td>Petrol</td>\n",
       "      <td>Individual</td>\n",
       "      <td>Manual</td>\n",
       "      <td>Second Owner</td>\n",
       "      <td>buy</td>\n",
       "    </tr>\n",
       "    <tr>\n",
       "      <th>3749</th>\n",
       "      <td>Maruti Swift ZDi</td>\n",
       "      <td>2013.0</td>\n",
       "      <td>365000.0</td>\n",
       "      <td>120000</td>\n",
       "      <td>Diesel</td>\n",
       "      <td>Individual</td>\n",
       "      <td>Manual</td>\n",
       "      <td>First Owner</td>\n",
       "      <td>dont buy</td>\n",
       "    </tr>\n",
       "    <tr>\n",
       "      <th>4231</th>\n",
       "      <td>Maruti Swift Dzire ZDI</td>\n",
       "      <td>2015.0</td>\n",
       "      <td>484999.0</td>\n",
       "      <td>90000</td>\n",
       "      <td>Diesel</td>\n",
       "      <td>Individual</td>\n",
       "      <td>Manual</td>\n",
       "      <td>Second Owner</td>\n",
       "      <td>buy</td>\n",
       "    </tr>\n",
       "    <tr>\n",
       "      <th>3310</th>\n",
       "      <td>Hyundai Grand i10 CRDi Asta</td>\n",
       "      <td>2015.0</td>\n",
       "      <td>300000.0</td>\n",
       "      <td>70000</td>\n",
       "      <td>Diesel</td>\n",
       "      <td>Individual</td>\n",
       "      <td>Manual</td>\n",
       "      <td>First Owner</td>\n",
       "      <td>buy</td>\n",
       "    </tr>\n",
       "  </tbody>\n",
       "</table>\n",
       "</div>"
      ],
      "text/plain": [
       "                                       name    year  selling_price  km_driven  \\\n",
       "1691                 Chevrolet Aveo 1.4 CNG  2011.0       229999.0     100000   \n",
       "1635          Hyundai Santro Magna AMT BSIV  2019.0       400000.0      16000   \n",
       "2433  Toyota Innova 2.5 G (Diesel) 8 Seater  2013.0      1010000.0     120000   \n",
       "1282      Volkswagen Polo 1.5 TDI Trendline  2014.0       415000.0      81358   \n",
       "3343                      Maruti Ertiga VDI  2012.0       700000.0     110000   \n",
       "1229               Maruti Vitara Brezza VDi  2018.0       780000.0      50000   \n",
       "92                          Honda Brio S MT  2015.0       371000.0      20000   \n",
       "1450                Maruti Wagon R LX BSIII  2009.0       130000.0      70000   \n",
       "3383         Maruti Eeco Smiles 5 Seater AC  2013.0       280000.0      76600   \n",
       "1643                      Maruti Esteem Vxi  2005.0       100000.0      20000   \n",
       "3749                       Maruti Swift ZDi  2013.0       365000.0     120000   \n",
       "4231                 Maruti Swift Dzire ZDI  2015.0       484999.0      90000   \n",
       "3310            Hyundai Grand i10 CRDi Asta  2015.0       300000.0      70000   \n",
       "\n",
       "        fuel seller_type transmission                 owner   suggest  \n",
       "1691     CNG  Individual       Manual           First Owner    100000  \n",
       "1635  Petrol  Individual    Automatic           First Owner       buy  \n",
       "2433  Diesel  Individual       Manual           First Owner  dont buy  \n",
       "1282  Diesel      Dealer       Manual           First Owner       buy  \n",
       "3343  Diesel  Individual       Manual          Second Owner  dont buy  \n",
       "1229  Diesel  Individual       Manual           First Owner       buy  \n",
       "92    Petrol      Dealer       Manual           First Owner       buy  \n",
       "1450  Petrol  Individual       Manual  Fourth & Above Owner       buy  \n",
       "3383  Petrol      Dealer       Manual           First Owner       buy  \n",
       "1643  Petrol  Individual       Manual          Second Owner       buy  \n",
       "3749  Diesel  Individual       Manual           First Owner  dont buy  \n",
       "4231  Diesel  Individual       Manual          Second Owner       buy  \n",
       "3310  Diesel  Individual       Manual           First Owner       buy  "
      ]
     },
     "execution_count": 14,
     "metadata": {},
     "output_type": "execute_result"
    }
   ],
   "source": [
    "df.sample(13)"
   ]
  },
  {
   "cell_type": "code",
   "execution_count": 15,
   "id": "59053129",
   "metadata": {},
   "outputs": [
    {
     "data": {
      "text/plain": [
       "array(['First Owner', 'Second Owner', 'Fourth & Above Owner',\n",
       "       'Third Owner', 'Test Drive Car'], dtype=object)"
      ]
     },
     "execution_count": 15,
     "metadata": {},
     "output_type": "execute_result"
    }
   ],
   "source": [
    "df['owner'].unique()"
   ]
  },
  {
   "cell_type": "code",
   "execution_count": 16,
   "id": "e60fd4f5",
   "metadata": {},
   "outputs": [],
   "source": [
    "from sklearn.compose import ColumnTransformer\n",
    "from sklearn.preprocessing import OrdinalEncoder\n",
    "from sklearn.preprocessing import OneHotEncoder\n",
    "from sklearn.preprocessing import StandardScaler\n",
    "transform=ColumnTransformer(transformers=[\n",
    "    ('t1',StandardScaler(),['selling_price','km_driven']),\n",
    "    ('t2',OneHotEncoder(sparse=False,drop='first'),['seller_type','transmission','fuel','suggest']),\n",
    "    ('t3',OrdinalEncoder(categories=[['Test Drive Car','First Owner', 'Second Owner',\n",
    "       'Third Owner','Fourth & Above Owner']]),['owner'])\n",
    "],remainder='passthrough')"
   ]
  },
  {
   "cell_type": "code",
   "execution_count": 17,
   "id": "1640a572",
   "metadata": {},
   "outputs": [],
   "source": [
    "df = pd.DataFrame(transform.fit_transform(df),columns=range(0,14))"
   ]
  },
  {
   "cell_type": "code",
   "execution_count": null,
   "id": "ba1aeb3d",
   "metadata": {},
   "outputs": [],
   "source": []
  },
  {
   "cell_type": "code",
   "execution_count": null,
   "id": "ed48f7c4",
   "metadata": {},
   "outputs": [],
   "source": []
  }
 ],
 "metadata": {
  "kernelspec": {
   "display_name": "Python 3 (ipykernel)",
   "language": "python",
   "name": "python3"
  },
  "language_info": {
   "codemirror_mode": {
    "name": "ipython",
    "version": 3
   },
   "file_extension": ".py",
   "mimetype": "text/x-python",
   "name": "python",
   "nbconvert_exporter": "python",
   "pygments_lexer": "ipython3",
   "version": "3.9.12"
  }
 },
 "nbformat": 4,
 "nbformat_minor": 5
}
