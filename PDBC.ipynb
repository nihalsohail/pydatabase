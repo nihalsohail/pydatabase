{
 "cells": [
  {
   "cell_type": "markdown",
   "id": "66bf2ad8",
   "metadata": {},
   "source": [
    "# IMPORT MYSQL CONNECTOR"
   ]
  },
  {
   "cell_type": "code",
   "execution_count": 2,
   "id": "f8f0e6e0",
   "metadata": {},
   "outputs": [
    {
     "name": "stdout",
     "output_type": "stream",
     "text": [
      "Collecting mysql_connector-python\n",
      "  Downloading mysql_connector_python-8.0.31-cp39-cp39-win_amd64.whl (7.9 MB)\n",
      "Requirement already satisfied: protobuf<=3.20.1,>=3.11.0 in c:\\programdata\\anaconda3\\lib\\site-packages (from mysql_connector-python) (3.19.1)\n",
      "Installing collected packages: mysql-connector-python\n",
      "Successfully installed mysql-connector-python-8.0.31\n"
     ]
    }
   ],
   "source": [
    "!pip install mysql_connector-python"
   ]
  },
  {
   "cell_type": "code",
   "execution_count": 3,
   "id": "0b7dc356",
   "metadata": {},
   "outputs": [],
   "source": [
    "import mysql.connector as con"
   ]
  },
  {
   "cell_type": "code",
   "execution_count": 4,
   "id": "06d4e536",
   "metadata": {},
   "outputs": [
    {
     "name": "stdout",
     "output_type": "stream",
     "text": [
      "<mysql.connector.connection_cext.CMySQLConnection object at 0x0000017BAD4ECA00>\n"
     ]
    }
   ],
   "source": [
    "import mysql.connector as con\n",
    "new_db=con.connect(host=\"localhost\",\n",
    "                   user=\"root\",\n",
    "                   password=\"sasha\"                  \n",
    "                  )\n",
    "print(new_db)"
   ]
  },
  {
   "cell_type": "code",
   "execution_count": 5,
   "id": "6eab6936",
   "metadata": {},
   "outputs": [],
   "source": [
    "import mysql.connector as con\n",
    "new_db=con.connect(host=\"localhost\",user=\"root\",password=\"sasha\")\n",
    "new_cursor=new_db.cursor()   #here,cursor is a result set through which data of \n",
    "                             #executed query is stored in a variable for physical existence\n",
    "                               #Like a agent and object for storing data\n",
    "new_cursor.execute(\"CREATE DATABASE college13\")"
   ]
  },
  {
   "cell_type": "code",
   "execution_count": 8,
   "id": "5dcdc3d1",
   "metadata": {},
   "outputs": [
    {
     "name": "stdout",
     "output_type": "stream",
     "text": [
      "('college13',)\n",
      "('information_schema',)\n",
      "('mysql',)\n",
      "('performance_schema',)\n",
      "('sys',)\n",
      "('university',)\n",
      "('university1',)\n"
     ]
    }
   ],
   "source": [
    "import mysql.connector as con\n",
    "new_db=con.connect(host=\"localhost\",user=\"root\",password=\"sasha\")\n",
    "new_cursor=new_db.cursor()\n",
    "new_cursor.execute(\"SHOW DATABASES\")  \n",
    "for a in new_cursor:\n",
    "    print(a)"
   ]
  },
  {
   "cell_type": "code",
   "execution_count": 1,
   "id": "cd8198b4",
   "metadata": {},
   "outputs": [],
   "source": [
    "import mysql.connector as con\n",
    "new_db=con.connect(host=\"localhost\",user=\"root\",password=\"sasha\")\n",
    "new_cursor=new_db.cursor()\n",
    "new_cursor.execute(\"DROP DATABASE university\")"
   ]
  },
  {
   "cell_type": "code",
   "execution_count": 2,
   "id": "a344ee92",
   "metadata": {},
   "outputs": [],
   "source": [
    "import mysql.connector as con\n",
    "new_db=con.connect(host=\"localhost\",user=\"root\",password=\"sasha\")\n",
    "new_cursor=new_db.cursor()\n",
    "new_cursor.execute(\"DROP DATABASE university1\")"
   ]
  },
  {
   "cell_type": "code",
   "execution_count": 4,
   "id": "a4864925",
   "metadata": {},
   "outputs": [],
   "source": [
    "import mysql.connector as con\n",
    "new_db=con.connect(host=\"localhost\",user=\"root\",password=\"sasha\",database=\"college13\")\n",
    "new_cursor=new_db.cursor()\n",
    "query=\"CREATE TABLE student13(rno varchar(100),name varchar(200))\"\n",
    "new_cursor.execute(query)\n"
   ]
  },
  {
   "cell_type": "code",
   "execution_count": 8,
   "id": "abbe5f2c",
   "metadata": {},
   "outputs": [
    {
     "name": "stdout",
     "output_type": "stream",
     "text": [
      "('student13',)\n"
     ]
    }
   ],
   "source": [
    "import mysql.connector as con\n",
    "new_db=con.connect(host=\"localhost\",user=\"root\",password=\"sasha\",database=\"college13\")\n",
    "new_cursor=new_db.cursor()\n",
    "query=\"SHOW TABLES\"\n",
    "new_cursor.execute(query)\n",
    "for a in new_cursor:\n",
    "    print(a)"
   ]
  },
  {
   "cell_type": "code",
   "execution_count": 9,
   "id": "1fd04e2d",
   "metadata": {},
   "outputs": [
    {
     "name": "stdout",
     "output_type": "stream",
     "text": [
      "Query OK, 1 row is inserted\n"
     ]
    }
   ],
   "source": [
    "import mysql.connector as con\n",
    "new_db=con.connect(host=\"localhost\",user=\"root\",password=\"sasha\",database=\"college13\")\n",
    "new_cursor=new_db.cursor()\n",
    "query=\"INSERT INTO student13(rno,name) values(%s,%s)\"  #HERE,%s is a placeholder for inserting multiple values at a time\n",
    "values=(\"393CS20015\",\"Nihal Nadaf\")\n",
    "new_cursor.execute(query,values)\n",
    "new_db.commit()  #Here,commit means changes are made permanently\n",
    "print(\"Query OK,\",new_cursor.rowcount,\"row is inserted\")"
   ]
  },
  {
   "cell_type": "code",
   "execution_count": 11,
   "id": "81097db7",
   "metadata": {},
   "outputs": [
    {
     "name": "stdout",
     "output_type": "stream",
     "text": [
      "QUERY OK, 3 rows is inserted\n"
     ]
    }
   ],
   "source": [
    "import mysql.connector as con\n",
    "new_db=con.connect(host=\"localhost\",user=\"root\",password=\"sasha\",database=\"college13\")\n",
    "new_cursor=new_db.cursor()\n",
    "query=\"INSERT INTO student13(rno,name) values(%s,%s)\"\n",
    "values=[(\"393CS20032\",\"vivek\"),\n",
    "       (\"393CS20013\",\"avadhoot\"),\n",
    "        (\"393CS20008\",\"jahid ali\")]\n",
    "new_cursor.executemany(query,values)\n",
    "new_db.commit()\n",
    "print(\"QUERY OK,\",new_cursor.rowcount,\"rows is inserted\")"
   ]
  },
  {
   "cell_type": "code",
   "execution_count": 13,
   "id": "beadd2d0",
   "metadata": {},
   "outputs": [
    {
     "name": "stdout",
     "output_type": "stream",
     "text": [
      "('393CS20015', 'Nihal Nadaf')\n",
      "('393CS20032', 'vivek')\n",
      "('393CS20013', 'avadhoot')\n",
      "('393CS20008', 'jahid ali')\n"
     ]
    }
   ],
   "source": [
    "import mysql.connector as con\n",
    "new_db=con.connect(host=\"localhost\",user=\"root\",password=\"sasha\",database=\"college13\")\n",
    "new_cursor=new_db.cursor()\n",
    "query=\"SELECT * FROM student13\"\n",
    "new_cursor.execute(query)\n",
    "for i in new_cursor:\n",
    "    print(i)"
   ]
  },
  {
   "cell_type": "code",
   "execution_count": null,
   "id": "ff6d469f",
   "metadata": {},
   "outputs": [],
   "source": []
  }
 ],
 "metadata": {
  "kernelspec": {
   "display_name": "Python 3 (ipykernel)",
   "language": "python",
   "name": "python3"
  },
  "language_info": {
   "codemirror_mode": {
    "name": "ipython",
    "version": 3
   },
   "file_extension": ".py",
   "mimetype": "text/x-python",
   "name": "python",
   "nbconvert_exporter": "python",
   "pygments_lexer": "ipython3",
   "version": "3.9.12"
  }
 },
 "nbformat": 4,
 "nbformat_minor": 5
}
